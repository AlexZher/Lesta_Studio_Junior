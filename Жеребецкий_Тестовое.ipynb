{
 "cells": [
  {
   "cell_type": "markdown",
   "metadata": {},
   "source": [
    "<h1>1 задание (Четность целого числа)<h1>"
   ]
  },
  {
   "cell_type": "markdown",
   "metadata": {},
   "source": [
    "Для того, чтобы число было четным, необходимо и достаточно, чтобы последний бит в двоичной записи был нулем. \n",
    "Это можно проверить операцией бинарного \"И\""
   ]
  },
  {
   "cell_type": "code",
   "execution_count": 1,
   "metadata": {},
   "outputs": [],
   "source": [
    "def isEven(value):\n",
    "    return value & 1 == 0"
   ]
  },
  {
   "cell_type": "markdown",
   "metadata": {},
   "source": [
    "<h3>Примеры<h3> "
   ]
  },
  {
   "cell_type": "code",
   "execution_count": 2,
   "metadata": {},
   "outputs": [
    {
     "data": {
      "text/plain": [
       "False"
      ]
     },
     "execution_count": 2,
     "metadata": {},
     "output_type": "execute_result"
    }
   ],
   "source": [
    "isEven(3)"
   ]
  },
  {
   "cell_type": "code",
   "execution_count": 3,
   "metadata": {},
   "outputs": [
    {
     "data": {
      "text/plain": [
       "True"
      ]
     },
     "execution_count": 3,
     "metadata": {},
     "output_type": "execute_result"
    }
   ],
   "source": [
    "isEven(-4)"
   ]
  },
  {
   "cell_type": "markdown",
   "metadata": {},
   "source": [
    "<h1>2 задание (Циклический буффер FIFO)<h1>"
   ]
  },
  {
   "cell_type": "markdown",
   "metadata": {},
   "source": [
    "Вариант 1 <br>\n",
    "Классический буффер, плюсом которого является возможность хранить любые данные. "
   ]
  },
  {
   "cell_type": "code",
   "execution_count": 4,
   "metadata": {},
   "outputs": [],
   "source": [
    "class byteFIFO:\n",
    "    \n",
    "    def __init__(self):\n",
    "        self._buf = bytearray()\n",
    "\n",
    "        \n",
    "    def put(self, data):\n",
    "        self._buf.extend(data)\n",
    "\n",
    "        \n",
    "    def get(self, size):\n",
    "        data = self._buf[:size]\n",
    "        self._buf[:size] = b''\n",
    "        return data\n",
    "\n",
    "    \n",
    "    def peek(self, size):\n",
    "        return self._buf[:size]\n",
    "\n",
    "    \n",
    "    def getvalue(self):\n",
    "        return self._buf\n"
   ]
  },
  {
   "cell_type": "markdown",
   "metadata": {},
   "source": [
    "Вариант 2 <br>\n",
    "Улучшенный вариант, однако может хранить только один тип данных, указываемый при создании буффера (init).\n",
    "Обрабатывает ошибки, которые могут возникнуть при использовании буфера (создание пустого буффера, обращение к пустому буфферу).\n",
    "Поддерживает состояния заполненности буффера, работает напрямую с индексами элементов массива, что немного быстрее, чем списки."
   ]
  },
  {
   "cell_type": "code",
   "execution_count": 5,
   "metadata": {},
   "outputs": [],
   "source": [
    "from array import array"
   ]
  },
  {
   "cell_type": "code",
   "execution_count": 6,
   "metadata": {},
   "outputs": [],
   "source": [
    "class СircularBuffer():\n",
    "        \n",
    "    def __init__(self, buffer_size):\n",
    "        if buffer_size > 0:\n",
    "            print(\"Buffer created with {} capacity\".format(buffer_size))\n",
    "            self.circular_buffer = array('i', (0,) * buffer_size)\n",
    "            self.max_size = buffer_size\n",
    "            self.current_size = 0\n",
    "            self.index_read = 0\n",
    "            self.index_write = 0\n",
    "        else:\n",
    "            print(\"Buffer size must be positive\")\n",
    "            raise ValueError   \n",
    "        \n",
    "    # private method    \n",
    "    def __increaseIndex(self, index):\n",
    "        if index + 1 == self.max_size:\n",
    "            return 0\n",
    "        else:\n",
    "            return index + 1 \n",
    "    \n",
    " \n",
    "    def put(self, number):\n",
    "        self.circular_buffer[self.index_write] = number\n",
    "        self.current_size = min(self.current_size + 1, self.max_size)\n",
    "          \n",
    "        if self.current_size != 1 and self.index_write == self.index_read:\n",
    "            self.index_read = self.__increaseIndex(self.index_read)\n",
    "        \n",
    "        self.index_write = self.__increaseIndex(self.index_write)\n",
    "        \n",
    "        \n",
    "                \n",
    "    def get(self):\n",
    "        if self.current_size != 0: \n",
    "            answer = self.circular_buffer[self.index_read]\n",
    "            self.index_read = self.__increaseIndex(self.index_read)\n",
    "            self.current_size -= 1\n",
    "            return answer\n",
    "        else:\n",
    "            print(\"Buffer is empty\")\n",
    "            raise LookupError\n",
    "    \n",
    "    \n",
    "    def __repr__(self):\n",
    "        return f'СircularBuffer(data = {self.circular_buffer},      \\\n",
    "                                max_size = {self.max_size},         \\\n",
    "                                buffer_size = {self.max_size},   \\\n",
    "                                current_size = {self.current_size}, \\\n",
    "                                index_read = {self.index_read},     \\\n",
    "                                index_write = {self.index_write})'\n",
    "    \n",
    "    \n",
    "    def __str__(self):\n",
    "        return f'Buffer {self.circular_buffer} with {self.current_size} elements'"
   ]
  },
  {
   "cell_type": "markdown",
   "metadata": {},
   "source": [
    "<h3>Примеры<h3> "
   ]
  },
  {
   "cell_type": "code",
   "execution_count": 7,
   "metadata": {},
   "outputs": [
    {
     "name": "stdout",
     "output_type": "stream",
     "text": [
      "Buffer created with 3 capacity\n",
      "Buffer array('i', [4, 5, 3]) with 3 elements\n"
     ]
    }
   ],
   "source": [
    "buffer = СircularBuffer(buffer_size=3)\n",
    "buffer.put(1)\n",
    "buffer.put(2)\n",
    "buffer.put(3)\n",
    "buffer.put(4)\n",
    "buffer.put(5)\n",
    "print(buffer)"
   ]
  },
  {
   "cell_type": "code",
   "execution_count": 8,
   "metadata": {},
   "outputs": [
    {
     "name": "stdout",
     "output_type": "stream",
     "text": [
      "3\n"
     ]
    }
   ],
   "source": [
    "print (buffer.get())"
   ]
  },
  {
   "cell_type": "code",
   "execution_count": 9,
   "metadata": {},
   "outputs": [
    {
     "name": "stdout",
     "output_type": "stream",
     "text": [
      "4\n"
     ]
    }
   ],
   "source": [
    "print (buffer.get())"
   ]
  },
  {
   "cell_type": "code",
   "execution_count": 10,
   "metadata": {},
   "outputs": [
    {
     "name": "stdout",
     "output_type": "stream",
     "text": [
      "5\n"
     ]
    }
   ],
   "source": [
    "print (buffer.get())"
   ]
  },
  {
   "cell_type": "code",
   "execution_count": 11,
   "metadata": {},
   "outputs": [
    {
     "name": "stdout",
     "output_type": "stream",
     "text": [
      "Buffer is empty\n",
      "Недопустимое действие\n"
     ]
    }
   ],
   "source": [
    "try: \n",
    "    buffer.get()\n",
    "except LookupError:\n",
    "    print(\"Недопустимое действие\")"
   ]
  },
  {
   "cell_type": "markdown",
   "metadata": {},
   "source": [
    "<h1> 3 Задание (Сортировка массива) <h1>\n",
    "    "
   ]
  },
  {
   "cell_type": "markdown",
   "metadata": {},
   "source": [
    "В языке Питон есть встроенный алгоритм сортировки — Timsort. На больших списках он работает, как сортировка слиянием, а на маленьких фрагментах — как сортировка вставками. Этот алгоритм специально оптимизирован для использования в языке Питон, а также быстро работает (за линейное время), если исходный список почти отсортирован. Тем не менее, с учетом того, что изначальный размер массива неизвестен, сортировка слиянием (Merge Sort) является второй по скорости после Timsort. Она имеет сложность O(n\\*log_n) и дополнительно занимаемую память O(n) для любых массивов."
   ]
  },
  {
   "cell_type": "code",
   "execution_count": 13,
   "metadata": {},
   "outputs": [],
   "source": [
    "def merge(arr, l, m, r):\n",
    "    n1 = m - l + 1\n",
    "    n2 = r - m\n",
    "    \n",
    "    left_sub_array = [0] * (n1)\n",
    "    right_sub_array = [0] * (n2)\n",
    " \n",
    "    for i in range(0, n1):\n",
    "        left_sub_array[i] = arr[l + i]\n",
    " \n",
    "    for j in range(0, n2):\n",
    "        right_sub_array[j] = arr[m + 1 + j]\n",
    " \n",
    "    i = 0\n",
    "    j = 0\n",
    "    k = l\n",
    " \n",
    "    while i < n1 and j < n2:\n",
    "        if left_sub_array[i] <= right_sub_array[j]:\n",
    "            arr[k] = left_sub_array[i]\n",
    "            i += 1\n",
    "        else:\n",
    "            arr[k] = right_sub_array[j]\n",
    "            j += 1\n",
    "        k += 1\n",
    " \n",
    "    while i < n1:\n",
    "        arr[k] = left_sub_array[i]\n",
    "        i += 1\n",
    "        k += 1\n",
    " \n",
    "    while j < n2:\n",
    "        arr[k] = right_sub_array[j]\n",
    "        j += 1\n",
    "        k += 1\n",
    " \n",
    " \n",
    "def mergeSort(arr, l, r):\n",
    "    if l < r:\n",
    "        m = l + (r-l)//2\n",
    "        # рекурсивные вызовы\n",
    "        mergeSort(arr, l, m)\n",
    "        mergeSort(arr, m+1, r)\n",
    "        merge(arr, l, m, r)"
   ]
  },
  {
   "cell_type": "markdown",
   "metadata": {},
   "source": [
    "<h3>Примеры<h3> "
   ]
  },
  {
   "cell_type": "code",
   "execution_count": 14,
   "metadata": {},
   "outputs": [
    {
     "name": "stdout",
     "output_type": "stream",
     "text": [
      "[-2, 0, 3, 3, 5, 21, 24]\n"
     ]
    }
   ],
   "source": [
    "new_array = [3, 3, 21, 24, 5, -2, 0]\n",
    "mergeSort(new_array, 0, len(new_array) - 1)\n",
    "print(new_array)"
   ]
  },
  {
   "cell_type": "code",
   "execution_count": null,
   "metadata": {},
   "outputs": [],
   "source": []
  }
 ],
 "metadata": {
  "kernelspec": {
   "display_name": "Python 3",
   "language": "python",
   "name": "python3"
  },
  "language_info": {
   "codemirror_mode": {
    "name": "ipython",
    "version": 3
   },
   "file_extension": ".py",
   "mimetype": "text/x-python",
   "name": "python",
   "nbconvert_exporter": "python",
   "pygments_lexer": "ipython3",
   "version": "3.8.8"
  }
 },
 "nbformat": 4,
 "nbformat_minor": 4
}
